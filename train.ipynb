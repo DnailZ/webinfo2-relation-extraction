{
 "metadata": {
  "language_info": {
   "codemirror_mode": {
    "name": "ipython",
    "version": 3
   },
   "file_extension": ".py",
   "mimetype": "text/x-python",
   "name": "python",
   "nbconvert_exporter": "python",
   "pygments_lexer": "ipython3",
   "version": 3
  },
  "orig_nbformat": 2
 },
 "nbformat": 4,
 "nbformat_minor": 2,
 "cells": [
  {
   "source": [
    "# 模型训练\n",
    "\n",
    "训练过程中会自动把结果保存在特定目录。\n",
    "\n",
    "## 直接分类的模型"
   ],
   "cell_type": "markdown",
   "metadata": {}
  },
  {
   "cell_type": "code",
   "execution_count": null,
   "metadata": {},
   "outputs": [],
   "source": [
    "from src.models import ClassifyModel, DependencyModel\n",
    "from src.dataset import read_train\n",
    "\n",
    "model1 = ClassifyModel(\"models/distilbert-classify\")\n",
    "train_data = [(sent, rela) for sent, (rela, e1, e2) in read_train(\"dataset/test.txt\")]\n",
    "model1.train(train_data)"
   ]
  },
  {
   "source": [
    "## 基于实体识别 + 依存树 + 分类的模型"
   ],
   "cell_type": "markdown",
   "metadata": {}
  },
  {
   "cell_type": "code",
   "execution_count": null,
   "metadata": {},
   "outputs": [],
   "source": [
    "from src.models import ClassifyModel, DependencyModel\n",
    "from src.dataset import read_train\n",
    "\n",
    "model2 = DependencyModel(\"models/distilbert-ner\", \"models/distilbert-deps\")\n",
    "model2.train(read_train(\"dataset/test.txt\"))"
   ]
  }
 ]
}